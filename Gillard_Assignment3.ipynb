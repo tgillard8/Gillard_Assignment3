{
 "cells": [
  {
   "cell_type": "code",
   "execution_count": 6,
   "id": "10491fa1",
   "metadata": {},
   "outputs": [
    {
     "name": "stdout",
     "output_type": "stream",
     "text": [
      "Grade Calculator\n"
     ]
    }
   ],
   "source": [
    "print(\"Grade Calculator\")"
   ]
  },
  {
   "cell_type": "code",
   "execution_count": 3,
   "id": "5134604c",
   "metadata": {},
   "outputs": [
    {
     "name": "stdout",
     "output_type": "stream",
     "text": [
      "Grade Percentage in Decimal Format (between 0 and 1): Hi\n",
      "Unacceptable submission. enter a number instead.\n",
      "Grade Percentage in Decimal Format (between 0 and 1): 82\n",
      "Please enter a valid percentage between 0 and 1 (decimal format ex: .84).\n",
      "Grade Percentage in Decimal Format (between 0 and 1): .93\n",
      "Grade: A\n"
     ]
    }
   ],
   "source": [
    "# Function to Calculate Grade Percent\n",
    "def calculate_grade(percentage):\n",
    "    # Grade based off of Percentage\n",
    "    if percentage >= 0.9:\n",
    "        return \"A\"\n",
    "    elif percentage >= 0.8:\n",
    "        return \"B\"\n",
    "    elif percentage >= 0.7:\n",
    "        return \"C\"\n",
    "    elif percentage >= 0.6:\n",
    "        return \"D\"\n",
    "    elif 0 <= percentage < 0.6:\n",
    "        return \"F\"\n",
    "    else:\n",
    "        return None\n",
    "\n",
    "# Main function for user input and program execution\n",
    "def main():\n",
    "    # Infinite Loop until valid input is submitted\n",
    "    while True:\n",
    "        try:\n",
    "              # Attempt to get user input as a float\n",
    "            percentage = float(input(\"Grade Percentage in Decimal Format (between 0 and 1): \"))\n",
    "            \n",
    "            # Check for valid input range\n",
    "            if 0 <= percentage <= 1:\n",
    "                break # Loop exit upon valid input\n",
    "            else:\n",
    "                # Error message for invalid input outside of acceptable range\n",
    "                print(\"Please enter a valid percentage between 0 and 1 (decimal format ex: .84).\") \n",
    "        except ValueError:\n",
    "            # Error message for when not a number\n",
    "            print(\"Unacceptable submission. enter a number instead.\") \n",
    "\n",
    "    # Calculate grade function in order to recieve letter grade\n",
    "    grade = calculate_grade(percentage)\n",
    "    \n",
    "    # Print Grade or Print Error Message\n",
    "    if grade:\n",
    "        print(\"Grade:\", grade)\n",
    "    else:\n",
    "        print(\"Error\")\n",
    "        \n",
    "# Main Function to Start Program\n",
    "main()"
   ]
  },
  {
   "cell_type": "code",
   "execution_count": 13,
   "id": "6f3e1553",
   "metadata": {},
   "outputs": [
    {
     "name": "stdout",
     "output_type": "stream",
     "text": [
      "Days in Month Calculator (2024)\n"
     ]
    }
   ],
   "source": [
    "print(\"Days in Month Calculator (2024)\")"
   ]
  },
  {
   "cell_type": "code",
   "execution_count": 12,
   "id": "6f41d577",
   "metadata": {},
   "outputs": [
    {
     "name": "stdout",
     "output_type": "stream",
     "text": [
      "Enter Name of Month (ex: November, August): February\n",
      "In 2024, February has 29 days.\n"
     ]
    }
   ],
   "source": [
    "def get_days_in_month(month):\n",
    "    # Index for each month and the number of days in them. This is for 2024\n",
    "    days_in_month = {\n",
    "        \"January\": 31,\n",
    "        \"February\": 29,\n",
    "        \"March\": 31,\n",
    "        \"April\": 30,\n",
    "        \"May\": 31,\n",
    "        \"June\": 30,\n",
    "        \"July\": 31,\n",
    "        \"August\": 31,\n",
    "        \"September\": 30,\n",
    "        \"October\": 31,\n",
    "        \"November\": 30,\n",
    "        \"December\": 31\n",
    "    }\n",
    "    \n",
    "    # Check if a valid entry is in the index\n",
    "    if month in days_in_month:\n",
    "        return days_in_month[month]\n",
    "    else:\n",
    "        return None  # If not in Index\n",
    "\n",
    "def main():\n",
    "    # User Prompt for correct month\n",
    "    month = input(\"Enter Name of Month (ex: November, August): \").capitalize()\n",
    "    \n",
    "    # Function for Number of days in month\n",
    "    days = get_days_in_month(month)\n",
    "    \n",
    "    # Print Month or Error Message\n",
    "    if days is not None:\n",
    "        print(f\"In 2024, {month} has {days} days.\")\n",
    "    else:\n",
    "        print(\"Unacceptable Entry. Provide accurate name of a month.\")\n",
    "\n",
    "# Main Function to Start Program\n",
    "main()"
   ]
  },
  {
   "cell_type": "code",
   "execution_count": null,
   "id": "d0dd8532",
   "metadata": {},
   "outputs": [],
   "source": []
  }
 ],
 "metadata": {
  "kernelspec": {
   "display_name": "Python 3 (ipykernel)",
   "language": "python",
   "name": "python3"
  },
  "language_info": {
   "codemirror_mode": {
    "name": "ipython",
    "version": 3
   },
   "file_extension": ".py",
   "mimetype": "text/x-python",
   "name": "python",
   "nbconvert_exporter": "python",
   "pygments_lexer": "ipython3",
   "version": "3.11.5"
  }
 },
 "nbformat": 4,
 "nbformat_minor": 5
}
